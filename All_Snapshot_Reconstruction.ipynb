{
 "cells": [
  {
   "cell_type": "code",
   "execution_count": 25,
   "id": "01e8932c",
   "metadata": {},
   "outputs": [],
   "source": [
    "import pickle\n",
    "import numpy as np\n",
    "import tensorflow as tf\n",
    "import matplotlib\n",
    "import matplotlib.pyplot as plt\n",
    "from mpl_toolkits import mplot3d\n",
    "import pandas as pd"
   ]
  },
  {
   "cell_type": "code",
   "execution_count": 26,
   "id": "a5132697",
   "metadata": {},
   "outputs": [],
   "source": [
    "import h5py\n",
    "from scipy.io import savemat"
   ]
  },
  {
   "cell_type": "markdown",
   "id": "5c0ced64",
   "metadata": {},
   "source": [
    "### Load Original Data"
   ]
  },
  {
   "cell_type": "code",
   "execution_count": 27,
   "id": "ea1fb44a",
   "metadata": {},
   "outputs": [],
   "source": [
    "nx = 256\n",
    "ny = 128\n",
    "nz = 160"
   ]
  },
  {
   "cell_type": "code",
   "execution_count": 28,
   "id": "dc29f0f5",
   "metadata": {},
   "outputs": [],
   "source": [
    "filename = \"/Users/Alex/Desktop/MEng_Resources/2D_3D_DNS_Data/snapshots.pkl\""
   ]
  },
  {
   "cell_type": "code",
   "execution_count": 29,
   "id": "177b35cb",
   "metadata": {},
   "outputs": [],
   "source": [
    "with open(filename, 'rb') as f:\n",
    "    obj = pickle.load(f)\n",
    "    uvw3D_field = obj"
   ]
  },
  {
   "cell_type": "code",
   "execution_count": 30,
   "id": "e4306000",
   "metadata": {},
   "outputs": [
    {
     "data": {
      "text/plain": [
       "(100, 256, 128, 160, 3)"
      ]
     },
     "execution_count": 30,
     "metadata": {},
     "output_type": "execute_result"
    }
   ],
   "source": [
    "uvw3D_field.shape"
   ]
  },
  {
   "cell_type": "markdown",
   "id": "1108facf",
   "metadata": {},
   "source": [
    "### Load Trained Model"
   ]
  },
  {
   "cell_type": "code",
   "execution_count": 31,
   "id": "983ac78e",
   "metadata": {},
   "outputs": [],
   "source": [
    "model = tf.keras.models.load_model(\"/Users/Alex/Desktop/MEng_Resources/Project_Run_Logbook/Full_100_Run/Run_2/Test_Model\")\n",
    "\n",
    "# model = tf.keras.models.load_model(\"/Users/Alex/Desktop/MEng_Resources/Project_Run_Logbook/100_dt5_Run/Test_Model\")"
   ]
  },
  {
   "cell_type": "markdown",
   "id": "3438258c",
   "metadata": {},
   "source": [
    "### Predict 4D Dataset"
   ]
  },
  {
   "cell_type": "code",
   "execution_count": 32,
   "id": "7abeda09",
   "metadata": {},
   "outputs": [],
   "source": [
    "# Define empty 2D dataset of 5 sections to predict 3D field\n",
    "test_sections = np.empty([nx, ny, 15])\n",
    "dt = 0 # in snapshots\n",
    "snapshots = np.arange(2*dt,100-2*dt, dtype='int')"
   ]
  },
  {
   "cell_type": "code",
   "execution_count": 33,
   "id": "bb789738",
   "metadata": {},
   "outputs": [
    {
     "data": {
      "text/plain": [
       "(100,)"
      ]
     },
     "execution_count": 33,
     "metadata": {},
     "output_type": "execute_result"
    }
   ],
   "source": [
    "snapshots.shape"
   ]
  },
  {
   "cell_type": "code",
   "execution_count": 34,
   "id": "753c5b77",
   "metadata": {},
   "outputs": [],
   "source": [
    "slice_pos = np.array([(nz - 1) * 0.1, (nz - 1) * 0.3, (nz - 1) * 0.5, (nz - 1) * 0.7, (nz - 1) * 0.9])\n",
    "slice_pos = slice_pos.astype(int)"
   ]
  },
  {
   "cell_type": "code",
   "execution_count": 35,
   "id": "dd37d4e1",
   "metadata": {},
   "outputs": [],
   "source": [
    "predictions = np.empty([len(snapshots),nx,ny,nz,3])"
   ]
  },
  {
   "cell_type": "code",
   "execution_count": 36,
   "id": "944b6dc4",
   "metadata": {},
   "outputs": [
    {
     "data": {
      "text/plain": [
       "(100, 256, 128, 160, 3)"
      ]
     },
     "execution_count": 36,
     "metadata": {},
     "output_type": "execute_result"
    }
   ],
   "source": [
    "predictions.shape"
   ]
  },
  {
   "cell_type": "code",
   "execution_count": 37,
   "id": "2827a299",
   "metadata": {},
   "outputs": [],
   "source": [
    "for ref_snap in snapshots:\n",
    "    test_sections = np.empty([nx, ny, 15])\n",
    "    test_sections[:, :, 0:3] = uvw3D_field[ref_snap - 2*dt, :, :, slice_pos[0], :]\n",
    "    test_sections[:, :, 3:6] = uvw3D_field[ref_snap - dt, :, :, slice_pos[1], :]\n",
    "    test_sections[:, :, 6:9] = uvw3D_field[ref_snap, :, :, slice_pos[2], :]\n",
    "    test_sections[:, :, 9:12] = uvw3D_field[ref_snap + dt, :, :, slice_pos[3], :]\n",
    "    test_sections[:, :, 12:] = uvw3D_field[ref_snap + 2*dt, :, :, slice_pos[4], :]\n",
    "    \n",
    "    test_sections = np.expand_dims(test_sections, axis=0)\n",
    "    \n",
    "    predictions[ref_snap - 2*dt,:,:,:,:] = model.predict(test_sections, batch_size=1)"
   ]
  },
  {
   "cell_type": "code",
   "execution_count": 38,
   "id": "8ee9881b",
   "metadata": {},
   "outputs": [
    {
     "data": {
      "text/plain": [
       "(100, 256, 128, 160, 3)"
      ]
     },
     "execution_count": 38,
     "metadata": {},
     "output_type": "execute_result"
    }
   ],
   "source": [
    "predictions.shape"
   ]
  },
  {
   "cell_type": "markdown",
   "id": "3fcec5a5",
   "metadata": {},
   "source": [
    "### Calculate Ensemble L2 Error Norm"
   ]
  },
  {
   "cell_type": "code",
   "execution_count": 18,
   "id": "f7baac52",
   "metadata": {},
   "outputs": [],
   "source": [
    "true_field = uvw3D_field"
   ]
  },
  {
   "cell_type": "code",
   "execution_count": 19,
   "id": "607ed9e3",
   "metadata": {},
   "outputs": [],
   "source": [
    "true_field_zero_mean = np.zeros(true_field.shape)\n",
    "#Subtract mean from each component\n",
    "true_field_zero_mean[:,:,:,:,0] = true_field[:,:,:,:,0] - np.mean(true_field[:,:,:,:,0])\n",
    "true_field_zero_mean[:,:,:,:,1] = true_field[:,:,:,:,1] - np.mean(true_field[:,:,:,:,1])\n",
    "true_field_zero_mean[:,:,:,:,2] = true_field[:,:,:,:,2] - np.mean(true_field[:,:,:,:,2])"
   ]
  },
  {
   "cell_type": "code",
   "execution_count": 21,
   "id": "68836655",
   "metadata": {},
   "outputs": [],
   "source": [
    "pred_flat = np.ravel(predictions)\n",
    "true_flat = np.ravel(true_field)\n",
    "true_flat_zero_mean = np.ravel(true_field_zero_mean)\n",
    "error = true_flat - pred_flat"
   ]
  },
  {
   "cell_type": "code",
   "execution_count": null,
   "id": "80fe138c",
   "metadata": {},
   "outputs": [],
   "source": [
    "L2 = np.linalg.norm(error) / np.linalg.norm(true_flat_zero_mean)"
   ]
  },
  {
   "cell_type": "code",
   "execution_count": null,
   "id": "6aef1d2c",
   "metadata": {},
   "outputs": [],
   "source": [
    "L2"
   ]
  },
  {
   "cell_type": "markdown",
   "id": "1be820bd",
   "metadata": {},
   "source": [
    "### Save File for POD Analaysis"
   ]
  },
  {
   "cell_type": "code",
   "execution_count": 44,
   "id": "b8df3090",
   "metadata": {},
   "outputs": [],
   "source": [
    "filename = 'pod/v_pred_data_dt0'\n",
    "data = predictions[:,:,:,83,1]"
   ]
  },
  {
   "cell_type": "code",
   "execution_count": 45,
   "id": "79e0c302",
   "metadata": {},
   "outputs": [
    {
     "data": {
      "text/plain": [
       "(100, 256, 128)"
      ]
     },
     "execution_count": 45,
     "metadata": {},
     "output_type": "execute_result"
    }
   ],
   "source": [
    "data.shape"
   ]
  },
  {
   "cell_type": "code",
   "execution_count": 46,
   "id": "586efa41",
   "metadata": {},
   "outputs": [],
   "source": [
    "hf = h5py.File(filename, 'w')"
   ]
  },
  {
   "cell_type": "code",
   "execution_count": 47,
   "id": "cacd96ee",
   "metadata": {},
   "outputs": [
    {
     "data": {
      "text/plain": [
       "<HDF5 dataset \"data\": shape (100, 256, 128), type \"<f8\">"
      ]
     },
     "execution_count": 47,
     "metadata": {},
     "output_type": "execute_result"
    }
   ],
   "source": [
    "hf.create_dataset('data', data=data)"
   ]
  },
  {
   "cell_type": "code",
   "execution_count": 48,
   "id": "dcbf89d9",
   "metadata": {},
   "outputs": [],
   "source": [
    "hf.close()"
   ]
  },
  {
   "cell_type": "code",
   "execution_count": null,
   "id": "16b214da",
   "metadata": {},
   "outputs": [],
   "source": []
  }
 ],
 "metadata": {
  "kernelspec": {
   "display_name": "Python 3",
   "language": "python",
   "name": "python3"
  },
  "language_info": {
   "codemirror_mode": {
    "name": "ipython",
    "version": 3
   },
   "file_extension": ".py",
   "mimetype": "text/x-python",
   "name": "python",
   "nbconvert_exporter": "python",
   "pygments_lexer": "ipython3",
   "version": "3.8.8"
  }
 },
 "nbformat": 4,
 "nbformat_minor": 5
}
